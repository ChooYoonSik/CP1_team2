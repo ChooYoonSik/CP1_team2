{
  "nbformat": 4,
  "nbformat_minor": 0,
  "metadata": {
    "colab": {
      "provenance": []
    },
    "kernelspec": {
      "name": "python3",
      "display_name": "Python 3"
    },
    "language_info": {
      "name": "python"
    }
  },
  "cells": [
    {
      "cell_type": "markdown",
      "source": [
        "# 데이터 불러오기"
      ],
      "metadata": {
        "id": "ygfCbD73jDmB"
      }
    },
    {
      "cell_type": "code",
      "execution_count": 1,
      "metadata": {
        "colab": {
          "base_uri": "https://localhost:8080/"
        },
        "id": "xpAXH8ZAvwlP",
        "outputId": "48b5983b-c3c3-49c5-b6ab-7a7bb508bd74"
      },
      "outputs": [
        {
          "output_type": "stream",
          "name": "stdout",
          "text": [
            "Drive already mounted at /content/gdrive/; to attempt to forcibly remount, call drive.mount(\"/content/gdrive/\", force_remount=True).\n"
          ]
        }
      ],
      "source": [
        "from google.colab import drive\n",
        "drive.mount('/content/gdrive/')"
      ]
    },
    {
      "cell_type": "code",
      "source": [
        "import pandas as pd\n",
        "import numpy as np\n",
        "import re"
      ],
      "metadata": {
        "id": "iTBW91JEwPSw"
      },
      "execution_count": 2,
      "outputs": []
    },
    {
      "cell_type": "code",
      "source": [
        "barcode = pd.read_csv('/content/gdrive/MyDrive/cp1/barcode_full.csv')\n",
        "barcode.head()"
      ],
      "metadata": {
        "colab": {
          "base_uri": "https://localhost:8080/",
          "height": 243
        },
        "id": "_KSMIZtydwbD",
        "outputId": "5cbb3f69-422a-45b9-a0f8-3ba525045ddd"
      },
      "execution_count": 3,
      "outputs": [
        {
          "output_type": "stream",
          "name": "stderr",
          "text": [
            "/usr/local/lib/python3.7/dist-packages/IPython/core/interactiveshell.py:3326: DtypeWarning: Columns (4,6) have mixed types.Specify dtype option on import or set low_memory=False.\n",
            "  exec(code_obj, self.user_global_ns, self.user_ns)\n"
          ]
        },
        {
          "output_type": "execute_result",
          "data": {
            "text/plain": [
              "   Unnamed: 0  CLSBIZ_DT                    SITE_ADDR  PRDLST_REPORT_NO  \\\n",
              "0           0        NaN       충청북도 진천군 이월면 궁동길 51-24    19930443028350   \n",
              "1           1        NaN             경기도 광주시 독고개길 156     1987036804531   \n",
              "2           2        NaN       부산광역시 동구 충장대로 293(좌천동)    19950129282236   \n",
              "3           3        NaN  경기도 동두천시 평화로2862번길 15(상봉암동)     1997031009828   \n",
              "4           4        NaN        경상북도 영주시 소백로1916번길 34      201205540864   \n",
              "\n",
              "    PRMS_DT      PRDLST_NM         BAR_CD       POG_DAYCNT PRDLST_DCNM  \\\n",
              "0  20070119   면사랑 구수한 메밀국수  8802039211424         24개월  실온          건면   \n",
              "1  20000110           종합캔디  8801696003397       제조일로부터18개월         캔디류   \n",
              "2  20090724  좋은상품 유기농 부침가루  8805522061018    제조일로부터 12개월까지       기타가공품   \n",
              "3  19971009          쵸코카라멜  8801649120355      제조일로부터 12개월         캔디류   \n",
              "4  20120420     풍기홍삼愛홍삼정골드  8809359120061  제조일로부터 2년까지(실온)         액상차   \n",
              "\n",
              "         BSSH_NM      END_DT INDUTY_NM  \n",
              "0         (주)면사랑         NaN   식품제조가공업  \n",
              "1        (주)한일제과         NaN   식품제조가공업  \n",
              "2  사조동아원(주) 부산공장  20200217.0   식품제조가공업  \n",
              "3       한양제과주식회사  20161124.0   식품제조가공업  \n",
              "4       풍기홍삼애제조원         NaN   식품제조가공업  "
            ],
            "text/html": [
              "\n",
              "  <div id=\"df-4647e36c-caa1-412b-bae0-6c712e345244\">\n",
              "    <div class=\"colab-df-container\">\n",
              "      <div>\n",
              "<style scoped>\n",
              "    .dataframe tbody tr th:only-of-type {\n",
              "        vertical-align: middle;\n",
              "    }\n",
              "\n",
              "    .dataframe tbody tr th {\n",
              "        vertical-align: top;\n",
              "    }\n",
              "\n",
              "    .dataframe thead th {\n",
              "        text-align: right;\n",
              "    }\n",
              "</style>\n",
              "<table border=\"1\" class=\"dataframe\">\n",
              "  <thead>\n",
              "    <tr style=\"text-align: right;\">\n",
              "      <th></th>\n",
              "      <th>Unnamed: 0</th>\n",
              "      <th>CLSBIZ_DT</th>\n",
              "      <th>SITE_ADDR</th>\n",
              "      <th>PRDLST_REPORT_NO</th>\n",
              "      <th>PRMS_DT</th>\n",
              "      <th>PRDLST_NM</th>\n",
              "      <th>BAR_CD</th>\n",
              "      <th>POG_DAYCNT</th>\n",
              "      <th>PRDLST_DCNM</th>\n",
              "      <th>BSSH_NM</th>\n",
              "      <th>END_DT</th>\n",
              "      <th>INDUTY_NM</th>\n",
              "    </tr>\n",
              "  </thead>\n",
              "  <tbody>\n",
              "    <tr>\n",
              "      <th>0</th>\n",
              "      <td>0</td>\n",
              "      <td>NaN</td>\n",
              "      <td>충청북도 진천군 이월면 궁동길 51-24</td>\n",
              "      <td>19930443028350</td>\n",
              "      <td>20070119</td>\n",
              "      <td>면사랑 구수한 메밀국수</td>\n",
              "      <td>8802039211424</td>\n",
              "      <td>24개월  실온</td>\n",
              "      <td>건면</td>\n",
              "      <td>(주)면사랑</td>\n",
              "      <td>NaN</td>\n",
              "      <td>식품제조가공업</td>\n",
              "    </tr>\n",
              "    <tr>\n",
              "      <th>1</th>\n",
              "      <td>1</td>\n",
              "      <td>NaN</td>\n",
              "      <td>경기도 광주시 독고개길 156</td>\n",
              "      <td>1987036804531</td>\n",
              "      <td>20000110</td>\n",
              "      <td>종합캔디</td>\n",
              "      <td>8801696003397</td>\n",
              "      <td>제조일로부터18개월</td>\n",
              "      <td>캔디류</td>\n",
              "      <td>(주)한일제과</td>\n",
              "      <td>NaN</td>\n",
              "      <td>식품제조가공업</td>\n",
              "    </tr>\n",
              "    <tr>\n",
              "      <th>2</th>\n",
              "      <td>2</td>\n",
              "      <td>NaN</td>\n",
              "      <td>부산광역시 동구 충장대로 293(좌천동)</td>\n",
              "      <td>19950129282236</td>\n",
              "      <td>20090724</td>\n",
              "      <td>좋은상품 유기농 부침가루</td>\n",
              "      <td>8805522061018</td>\n",
              "      <td>제조일로부터 12개월까지</td>\n",
              "      <td>기타가공품</td>\n",
              "      <td>사조동아원(주) 부산공장</td>\n",
              "      <td>20200217.0</td>\n",
              "      <td>식품제조가공업</td>\n",
              "    </tr>\n",
              "    <tr>\n",
              "      <th>3</th>\n",
              "      <td>3</td>\n",
              "      <td>NaN</td>\n",
              "      <td>경기도 동두천시 평화로2862번길 15(상봉암동)</td>\n",
              "      <td>1997031009828</td>\n",
              "      <td>19971009</td>\n",
              "      <td>쵸코카라멜</td>\n",
              "      <td>8801649120355</td>\n",
              "      <td>제조일로부터 12개월</td>\n",
              "      <td>캔디류</td>\n",
              "      <td>한양제과주식회사</td>\n",
              "      <td>20161124.0</td>\n",
              "      <td>식품제조가공업</td>\n",
              "    </tr>\n",
              "    <tr>\n",
              "      <th>4</th>\n",
              "      <td>4</td>\n",
              "      <td>NaN</td>\n",
              "      <td>경상북도 영주시 소백로1916번길 34</td>\n",
              "      <td>201205540864</td>\n",
              "      <td>20120420</td>\n",
              "      <td>풍기홍삼愛홍삼정골드</td>\n",
              "      <td>8809359120061</td>\n",
              "      <td>제조일로부터 2년까지(실온)</td>\n",
              "      <td>액상차</td>\n",
              "      <td>풍기홍삼애제조원</td>\n",
              "      <td>NaN</td>\n",
              "      <td>식품제조가공업</td>\n",
              "    </tr>\n",
              "  </tbody>\n",
              "</table>\n",
              "</div>\n",
              "      <button class=\"colab-df-convert\" onclick=\"convertToInteractive('df-4647e36c-caa1-412b-bae0-6c712e345244')\"\n",
              "              title=\"Convert this dataframe to an interactive table.\"\n",
              "              style=\"display:none;\">\n",
              "        \n",
              "  <svg xmlns=\"http://www.w3.org/2000/svg\" height=\"24px\"viewBox=\"0 0 24 24\"\n",
              "       width=\"24px\">\n",
              "    <path d=\"M0 0h24v24H0V0z\" fill=\"none\"/>\n",
              "    <path d=\"M18.56 5.44l.94 2.06.94-2.06 2.06-.94-2.06-.94-.94-2.06-.94 2.06-2.06.94zm-11 1L8.5 8.5l.94-2.06 2.06-.94-2.06-.94L8.5 2.5l-.94 2.06-2.06.94zm10 10l.94 2.06.94-2.06 2.06-.94-2.06-.94-.94-2.06-.94 2.06-2.06.94z\"/><path d=\"M17.41 7.96l-1.37-1.37c-.4-.4-.92-.59-1.43-.59-.52 0-1.04.2-1.43.59L10.3 9.45l-7.72 7.72c-.78.78-.78 2.05 0 2.83L4 21.41c.39.39.9.59 1.41.59.51 0 1.02-.2 1.41-.59l7.78-7.78 2.81-2.81c.8-.78.8-2.07 0-2.86zM5.41 20L4 18.59l7.72-7.72 1.47 1.35L5.41 20z\"/>\n",
              "  </svg>\n",
              "      </button>\n",
              "      \n",
              "  <style>\n",
              "    .colab-df-container {\n",
              "      display:flex;\n",
              "      flex-wrap:wrap;\n",
              "      gap: 12px;\n",
              "    }\n",
              "\n",
              "    .colab-df-convert {\n",
              "      background-color: #E8F0FE;\n",
              "      border: none;\n",
              "      border-radius: 50%;\n",
              "      cursor: pointer;\n",
              "      display: none;\n",
              "      fill: #1967D2;\n",
              "      height: 32px;\n",
              "      padding: 0 0 0 0;\n",
              "      width: 32px;\n",
              "    }\n",
              "\n",
              "    .colab-df-convert:hover {\n",
              "      background-color: #E2EBFA;\n",
              "      box-shadow: 0px 1px 2px rgba(60, 64, 67, 0.3), 0px 1px 3px 1px rgba(60, 64, 67, 0.15);\n",
              "      fill: #174EA6;\n",
              "    }\n",
              "\n",
              "    [theme=dark] .colab-df-convert {\n",
              "      background-color: #3B4455;\n",
              "      fill: #D2E3FC;\n",
              "    }\n",
              "\n",
              "    [theme=dark] .colab-df-convert:hover {\n",
              "      background-color: #434B5C;\n",
              "      box-shadow: 0px 1px 3px 1px rgba(0, 0, 0, 0.15);\n",
              "      filter: drop-shadow(0px 1px 2px rgba(0, 0, 0, 0.3));\n",
              "      fill: #FFFFFF;\n",
              "    }\n",
              "  </style>\n",
              "\n",
              "      <script>\n",
              "        const buttonEl =\n",
              "          document.querySelector('#df-4647e36c-caa1-412b-bae0-6c712e345244 button.colab-df-convert');\n",
              "        buttonEl.style.display =\n",
              "          google.colab.kernel.accessAllowed ? 'block' : 'none';\n",
              "\n",
              "        async function convertToInteractive(key) {\n",
              "          const element = document.querySelector('#df-4647e36c-caa1-412b-bae0-6c712e345244');\n",
              "          const dataTable =\n",
              "            await google.colab.kernel.invokeFunction('convertToInteractive',\n",
              "                                                     [key], {});\n",
              "          if (!dataTable) return;\n",
              "\n",
              "          const docLinkHtml = 'Like what you see? Visit the ' +\n",
              "            '<a target=\"_blank\" href=https://colab.research.google.com/notebooks/data_table.ipynb>data table notebook</a>'\n",
              "            + ' to learn more about interactive tables.';\n",
              "          element.innerHTML = '';\n",
              "          dataTable['output_type'] = 'display_data';\n",
              "          await google.colab.output.renderOutput(dataTable, element);\n",
              "          const docLink = document.createElement('div');\n",
              "          docLink.innerHTML = docLinkHtml;\n",
              "          element.appendChild(docLink);\n",
              "        }\n",
              "      </script>\n",
              "    </div>\n",
              "  </div>\n",
              "  "
            ]
          },
          "metadata": {},
          "execution_count": 3
        }
      ]
    },
    {
      "cell_type": "markdown",
      "source": [
        "# Feature Engineering, 결측치 처리"
      ],
      "metadata": {
        "id": "WCN28VYBirvI"
      }
    },
    {
      "cell_type": "code",
      "source": [
        "# 결측치 확인, 삭제\n",
        "\n",
        "barcode.isnull().sum()"
      ],
      "metadata": {
        "colab": {
          "base_uri": "https://localhost:8080/"
        },
        "id": "0qFLP_Ores7D",
        "outputId": "7e2ba58e-76b7-48c8-a33b-cddf4627dc3b"
      },
      "execution_count": 4,
      "outputs": [
        {
          "output_type": "execute_result",
          "data": {
            "text/plain": [
              "Unnamed: 0               0\n",
              "CLSBIZ_DT           171814\n",
              "SITE_ADDR               30\n",
              "PRDLST_REPORT_NO         0\n",
              "PRMS_DT                  0\n",
              "PRDLST_NM               34\n",
              "BAR_CD                   0\n",
              "POG_DAYCNT            5075\n",
              "PRDLST_DCNM            211\n",
              "BSSH_NM                 21\n",
              "END_DT              135566\n",
              "INDUTY_NM                4\n",
              "dtype: int64"
            ]
          },
          "metadata": {},
          "execution_count": 4
        }
      ]
    },
    {
      "cell_type": "code",
      "source": [
        "# 생산중단 상품 개수\n",
        "barcode['END_DT'].notnull().sum()\n",
        "\n",
        "# end_dt(생산중단 날짜)에 값이 있으면 생산중단제품이라 생각하고 삭제\n",
        "barcode = barcode[barcode['END_DT'].isnull()]"
      ],
      "metadata": {
        "id": "IQX_d3Cqes5I"
      },
      "execution_count": 5,
      "outputs": []
    },
    {
      "cell_type": "code",
      "source": [
        "# 바코드 중복값 갯수 확인\n",
        "barcode['BAR_CD'].duplicated().sum()\n",
        "\n",
        "# 바코드 중복값 삭제\n",
        "barcode = barcode.drop_duplicates('BAR_CD')"
      ],
      "metadata": {
        "id": "bBkKf-M8es3D"
      },
      "execution_count": 6,
      "outputs": []
    },
    {
      "cell_type": "code",
      "source": [
        "# 사용할 column 선택\n",
        "barcode = barcode[['PRDLST_NM','BAR_CD','POG_DAYCNT','PRDLST_DCNM','BSSH_NM']]\n",
        "\n",
        "# column 명 변경\n",
        "barcode.columns = ['제품명','바코드','유통기한','소분류','제조사']"
      ],
      "metadata": {
        "id": "XVCWXKZces1A"
      },
      "execution_count": 7,
      "outputs": []
    },
    {
      "cell_type": "code",
      "source": [
        "# 결측치 삭제\n",
        "barcode.dropna(how='any', inplace=True)"
      ],
      "metadata": {
        "id": "2j49w2OMe9p_"
      },
      "execution_count": 8,
      "outputs": []
    },
    {
      "cell_type": "code",
      "source": [
        "# 바코드 오타 제거, 데이터타입 변환 -> float)\n",
        "\n",
        "def to_num(data):\n",
        "\n",
        "    result = re.sub('[^0-9]', '', str(data))\n",
        "\n",
        "    return result\n",
        "\n",
        "barcode['바코드'] = barcode['바코드'].apply(to_num)\n",
        "barcode['바코드'] = barcode['바코드'].astype('float')"
      ],
      "metadata": {
        "id": "alO9NRqMIR0u"
      },
      "execution_count": 9,
      "outputs": []
    },
    {
      "cell_type": "code",
      "source": [
        "print(barcode.shape)\n",
        "barcode.head()"
      ],
      "metadata": {
        "colab": {
          "base_uri": "https://localhost:8080/",
          "height": 225
        },
        "id": "7LROZJ948iGG",
        "outputId": "b9944ccc-5a1d-4b0f-b5a0-ad7375bb8ad1"
      },
      "execution_count": 10,
      "outputs": [
        {
          "output_type": "stream",
          "name": "stdout",
          "text": [
            "(121979, 5)\n"
          ]
        },
        {
          "output_type": "execute_result",
          "data": {
            "text/plain": [
              "            제품명           바코드                유통기한    소분류           제조사\n",
              "0  면사랑 구수한 메밀국수  8.802039e+12            24개월  실온     건면        (주)면사랑\n",
              "1          종합캔디  8.801696e+12          제조일로부터18개월    캔디류       (주)한일제과\n",
              "4    풍기홍삼愛홍삼정골드  8.809359e+12     제조일로부터 2년까지(실온)    액상차      풍기홍삼애제조원\n",
              "6         하이바나나  8.801074e+12  제조일로부터 14일(0~10도씨)    가공유  삼양식품(주)유가공공장\n",
              "9        고구마전분맛  8.803612e+12                24개월  전분가공품          전원식품"
            ],
            "text/html": [
              "\n",
              "  <div id=\"df-b86713ca-27a7-4ac7-a5c3-42d7c02cd1ba\">\n",
              "    <div class=\"colab-df-container\">\n",
              "      <div>\n",
              "<style scoped>\n",
              "    .dataframe tbody tr th:only-of-type {\n",
              "        vertical-align: middle;\n",
              "    }\n",
              "\n",
              "    .dataframe tbody tr th {\n",
              "        vertical-align: top;\n",
              "    }\n",
              "\n",
              "    .dataframe thead th {\n",
              "        text-align: right;\n",
              "    }\n",
              "</style>\n",
              "<table border=\"1\" class=\"dataframe\">\n",
              "  <thead>\n",
              "    <tr style=\"text-align: right;\">\n",
              "      <th></th>\n",
              "      <th>제품명</th>\n",
              "      <th>바코드</th>\n",
              "      <th>유통기한</th>\n",
              "      <th>소분류</th>\n",
              "      <th>제조사</th>\n",
              "    </tr>\n",
              "  </thead>\n",
              "  <tbody>\n",
              "    <tr>\n",
              "      <th>0</th>\n",
              "      <td>면사랑 구수한 메밀국수</td>\n",
              "      <td>8.802039e+12</td>\n",
              "      <td>24개월  실온</td>\n",
              "      <td>건면</td>\n",
              "      <td>(주)면사랑</td>\n",
              "    </tr>\n",
              "    <tr>\n",
              "      <th>1</th>\n",
              "      <td>종합캔디</td>\n",
              "      <td>8.801696e+12</td>\n",
              "      <td>제조일로부터18개월</td>\n",
              "      <td>캔디류</td>\n",
              "      <td>(주)한일제과</td>\n",
              "    </tr>\n",
              "    <tr>\n",
              "      <th>4</th>\n",
              "      <td>풍기홍삼愛홍삼정골드</td>\n",
              "      <td>8.809359e+12</td>\n",
              "      <td>제조일로부터 2년까지(실온)</td>\n",
              "      <td>액상차</td>\n",
              "      <td>풍기홍삼애제조원</td>\n",
              "    </tr>\n",
              "    <tr>\n",
              "      <th>6</th>\n",
              "      <td>하이바나나</td>\n",
              "      <td>8.801074e+12</td>\n",
              "      <td>제조일로부터 14일(0~10도씨)</td>\n",
              "      <td>가공유</td>\n",
              "      <td>삼양식품(주)유가공공장</td>\n",
              "    </tr>\n",
              "    <tr>\n",
              "      <th>9</th>\n",
              "      <td>고구마전분맛</td>\n",
              "      <td>8.803612e+12</td>\n",
              "      <td>24개월</td>\n",
              "      <td>전분가공품</td>\n",
              "      <td>전원식품</td>\n",
              "    </tr>\n",
              "  </tbody>\n",
              "</table>\n",
              "</div>\n",
              "      <button class=\"colab-df-convert\" onclick=\"convertToInteractive('df-b86713ca-27a7-4ac7-a5c3-42d7c02cd1ba')\"\n",
              "              title=\"Convert this dataframe to an interactive table.\"\n",
              "              style=\"display:none;\">\n",
              "        \n",
              "  <svg xmlns=\"http://www.w3.org/2000/svg\" height=\"24px\"viewBox=\"0 0 24 24\"\n",
              "       width=\"24px\">\n",
              "    <path d=\"M0 0h24v24H0V0z\" fill=\"none\"/>\n",
              "    <path d=\"M18.56 5.44l.94 2.06.94-2.06 2.06-.94-2.06-.94-.94-2.06-.94 2.06-2.06.94zm-11 1L8.5 8.5l.94-2.06 2.06-.94-2.06-.94L8.5 2.5l-.94 2.06-2.06.94zm10 10l.94 2.06.94-2.06 2.06-.94-2.06-.94-.94-2.06-.94 2.06-2.06.94z\"/><path d=\"M17.41 7.96l-1.37-1.37c-.4-.4-.92-.59-1.43-.59-.52 0-1.04.2-1.43.59L10.3 9.45l-7.72 7.72c-.78.78-.78 2.05 0 2.83L4 21.41c.39.39.9.59 1.41.59.51 0 1.02-.2 1.41-.59l7.78-7.78 2.81-2.81c.8-.78.8-2.07 0-2.86zM5.41 20L4 18.59l7.72-7.72 1.47 1.35L5.41 20z\"/>\n",
              "  </svg>\n",
              "      </button>\n",
              "      \n",
              "  <style>\n",
              "    .colab-df-container {\n",
              "      display:flex;\n",
              "      flex-wrap:wrap;\n",
              "      gap: 12px;\n",
              "    }\n",
              "\n",
              "    .colab-df-convert {\n",
              "      background-color: #E8F0FE;\n",
              "      border: none;\n",
              "      border-radius: 50%;\n",
              "      cursor: pointer;\n",
              "      display: none;\n",
              "      fill: #1967D2;\n",
              "      height: 32px;\n",
              "      padding: 0 0 0 0;\n",
              "      width: 32px;\n",
              "    }\n",
              "\n",
              "    .colab-df-convert:hover {\n",
              "      background-color: #E2EBFA;\n",
              "      box-shadow: 0px 1px 2px rgba(60, 64, 67, 0.3), 0px 1px 3px 1px rgba(60, 64, 67, 0.15);\n",
              "      fill: #174EA6;\n",
              "    }\n",
              "\n",
              "    [theme=dark] .colab-df-convert {\n",
              "      background-color: #3B4455;\n",
              "      fill: #D2E3FC;\n",
              "    }\n",
              "\n",
              "    [theme=dark] .colab-df-convert:hover {\n",
              "      background-color: #434B5C;\n",
              "      box-shadow: 0px 1px 3px 1px rgba(0, 0, 0, 0.15);\n",
              "      filter: drop-shadow(0px 1px 2px rgba(0, 0, 0, 0.3));\n",
              "      fill: #FFFFFF;\n",
              "    }\n",
              "  </style>\n",
              "\n",
              "      <script>\n",
              "        const buttonEl =\n",
              "          document.querySelector('#df-b86713ca-27a7-4ac7-a5c3-42d7c02cd1ba button.colab-df-convert');\n",
              "        buttonEl.style.display =\n",
              "          google.colab.kernel.accessAllowed ? 'block' : 'none';\n",
              "\n",
              "        async function convertToInteractive(key) {\n",
              "          const element = document.querySelector('#df-b86713ca-27a7-4ac7-a5c3-42d7c02cd1ba');\n",
              "          const dataTable =\n",
              "            await google.colab.kernel.invokeFunction('convertToInteractive',\n",
              "                                                     [key], {});\n",
              "          if (!dataTable) return;\n",
              "\n",
              "          const docLinkHtml = 'Like what you see? Visit the ' +\n",
              "            '<a target=\"_blank\" href=https://colab.research.google.com/notebooks/data_table.ipynb>data table notebook</a>'\n",
              "            + ' to learn more about interactive tables.';\n",
              "          element.innerHTML = '';\n",
              "          dataTable['output_type'] = 'display_data';\n",
              "          await google.colab.output.renderOutput(dataTable, element);\n",
              "          const docLink = document.createElement('div');\n",
              "          docLink.innerHTML = docLinkHtml;\n",
              "          element.appendChild(docLink);\n",
              "        }\n",
              "      </script>\n",
              "    </div>\n",
              "  </div>\n",
              "  "
            ]
          },
          "metadata": {},
          "execution_count": 10
        }
      ]
    },
    {
      "cell_type": "markdown",
      "source": [
        "1.냉장고와 가장 관련 없을 거 같은 값 제거 ex) 히알루론산, 엽산 등등 영양제 같은거랑 건어포 당류가공품 같은 유통기한이 엄청 긴 것들 제거\n",
        "\n",
        "2. 남은 것 중에 분류값마다 데이터 개수 확인하고 실제로 사용할만 한 것들 추가하기 ex)김치, 햄, 우유, 생햄, 모조치즈, 어육살, 어묵"
      ],
      "metadata": {
        "id": "he20jkNERNTI"
      }
    },
    {
      "cell_type": "markdown",
      "source": [
        "# 소분류 설정"
      ],
      "metadata": {
        "id": "xNHYob31i2z7"
      }
    },
    {
      "cell_type": "code",
      "source": [
        "# 최종적으로 사용할 소분류 데이터\n",
        "\n",
        "words = ['양념육','김치','어묵','소시지','햄','두부','자연치즈','우유','묵류','베이컨류','생햄','유당분해우유','혼합소시지','돼지고기','닭고기']\n",
        "\n",
        "barcode = barcode[barcode['소분류'].isin(words)]\n",
        "\n",
        "print(barcode['소분류'].shape)\n",
        "barcode.head()"
      ],
      "metadata": {
        "id": "VoQG-vmd3YZ7",
        "colab": {
          "base_uri": "https://localhost:8080/",
          "height": 225
        },
        "outputId": "50cf02dc-160b-4780-81d7-82d0cb0e21ce"
      },
      "execution_count": 11,
      "outputs": [
        {
          "output_type": "stream",
          "name": "stdout",
          "text": [
            "(9871,)\n"
          ]
        },
        {
          "output_type": "execute_result",
          "data": {
            "text/plain": [
              "          제품명           바코드                                 유통기한 소분류  \\\n",
              "30        백김치  8.809217e+12                            품질유지기한50일  김치   \n",
              "41     유기농백김치  8.809335e+12                           제조일로부터 60일  김치   \n",
              "62       포기김치  8.809358e+12                     제조일로부터 90일(냉장보관)  김치   \n",
              "69      후레쉬밀크  8.801115e+12         냉장보관(0℃ ~10℃) : 제조일로부터 12일까지  우유   \n",
              "70  명품돈.삽겹바베큐  8.809354e+12  제조일로부터 냉장(-2~5도) 45일, 냉동(-18도이하) 2년   햄   \n",
              "\n",
              "              제조사  \n",
              "30          도미솔식품  \n",
              "41  농업회사법인주식회사담채원  \n",
              "62    주식회사 진미푸드지점  \n",
              "69  서울우유협동조합 안산공장  \n",
              "70     (주)산호푸드시스템  "
            ],
            "text/html": [
              "\n",
              "  <div id=\"df-1e61462b-99db-4374-838b-781cb280be88\">\n",
              "    <div class=\"colab-df-container\">\n",
              "      <div>\n",
              "<style scoped>\n",
              "    .dataframe tbody tr th:only-of-type {\n",
              "        vertical-align: middle;\n",
              "    }\n",
              "\n",
              "    .dataframe tbody tr th {\n",
              "        vertical-align: top;\n",
              "    }\n",
              "\n",
              "    .dataframe thead th {\n",
              "        text-align: right;\n",
              "    }\n",
              "</style>\n",
              "<table border=\"1\" class=\"dataframe\">\n",
              "  <thead>\n",
              "    <tr style=\"text-align: right;\">\n",
              "      <th></th>\n",
              "      <th>제품명</th>\n",
              "      <th>바코드</th>\n",
              "      <th>유통기한</th>\n",
              "      <th>소분류</th>\n",
              "      <th>제조사</th>\n",
              "    </tr>\n",
              "  </thead>\n",
              "  <tbody>\n",
              "    <tr>\n",
              "      <th>30</th>\n",
              "      <td>백김치</td>\n",
              "      <td>8.809217e+12</td>\n",
              "      <td>품질유지기한50일</td>\n",
              "      <td>김치</td>\n",
              "      <td>도미솔식품</td>\n",
              "    </tr>\n",
              "    <tr>\n",
              "      <th>41</th>\n",
              "      <td>유기농백김치</td>\n",
              "      <td>8.809335e+12</td>\n",
              "      <td>제조일로부터 60일</td>\n",
              "      <td>김치</td>\n",
              "      <td>농업회사법인주식회사담채원</td>\n",
              "    </tr>\n",
              "    <tr>\n",
              "      <th>62</th>\n",
              "      <td>포기김치</td>\n",
              "      <td>8.809358e+12</td>\n",
              "      <td>제조일로부터 90일(냉장보관)</td>\n",
              "      <td>김치</td>\n",
              "      <td>주식회사 진미푸드지점</td>\n",
              "    </tr>\n",
              "    <tr>\n",
              "      <th>69</th>\n",
              "      <td>후레쉬밀크</td>\n",
              "      <td>8.801115e+12</td>\n",
              "      <td>냉장보관(0℃ ~10℃) : 제조일로부터 12일까지</td>\n",
              "      <td>우유</td>\n",
              "      <td>서울우유협동조합 안산공장</td>\n",
              "    </tr>\n",
              "    <tr>\n",
              "      <th>70</th>\n",
              "      <td>명품돈.삽겹바베큐</td>\n",
              "      <td>8.809354e+12</td>\n",
              "      <td>제조일로부터 냉장(-2~5도) 45일, 냉동(-18도이하) 2년</td>\n",
              "      <td>햄</td>\n",
              "      <td>(주)산호푸드시스템</td>\n",
              "    </tr>\n",
              "  </tbody>\n",
              "</table>\n",
              "</div>\n",
              "      <button class=\"colab-df-convert\" onclick=\"convertToInteractive('df-1e61462b-99db-4374-838b-781cb280be88')\"\n",
              "              title=\"Convert this dataframe to an interactive table.\"\n",
              "              style=\"display:none;\">\n",
              "        \n",
              "  <svg xmlns=\"http://www.w3.org/2000/svg\" height=\"24px\"viewBox=\"0 0 24 24\"\n",
              "       width=\"24px\">\n",
              "    <path d=\"M0 0h24v24H0V0z\" fill=\"none\"/>\n",
              "    <path d=\"M18.56 5.44l.94 2.06.94-2.06 2.06-.94-2.06-.94-.94-2.06-.94 2.06-2.06.94zm-11 1L8.5 8.5l.94-2.06 2.06-.94-2.06-.94L8.5 2.5l-.94 2.06-2.06.94zm10 10l.94 2.06.94-2.06 2.06-.94-2.06-.94-.94-2.06-.94 2.06-2.06.94z\"/><path d=\"M17.41 7.96l-1.37-1.37c-.4-.4-.92-.59-1.43-.59-.52 0-1.04.2-1.43.59L10.3 9.45l-7.72 7.72c-.78.78-.78 2.05 0 2.83L4 21.41c.39.39.9.59 1.41.59.51 0 1.02-.2 1.41-.59l7.78-7.78 2.81-2.81c.8-.78.8-2.07 0-2.86zM5.41 20L4 18.59l7.72-7.72 1.47 1.35L5.41 20z\"/>\n",
              "  </svg>\n",
              "      </button>\n",
              "      \n",
              "  <style>\n",
              "    .colab-df-container {\n",
              "      display:flex;\n",
              "      flex-wrap:wrap;\n",
              "      gap: 12px;\n",
              "    }\n",
              "\n",
              "    .colab-df-convert {\n",
              "      background-color: #E8F0FE;\n",
              "      border: none;\n",
              "      border-radius: 50%;\n",
              "      cursor: pointer;\n",
              "      display: none;\n",
              "      fill: #1967D2;\n",
              "      height: 32px;\n",
              "      padding: 0 0 0 0;\n",
              "      width: 32px;\n",
              "    }\n",
              "\n",
              "    .colab-df-convert:hover {\n",
              "      background-color: #E2EBFA;\n",
              "      box-shadow: 0px 1px 2px rgba(60, 64, 67, 0.3), 0px 1px 3px 1px rgba(60, 64, 67, 0.15);\n",
              "      fill: #174EA6;\n",
              "    }\n",
              "\n",
              "    [theme=dark] .colab-df-convert {\n",
              "      background-color: #3B4455;\n",
              "      fill: #D2E3FC;\n",
              "    }\n",
              "\n",
              "    [theme=dark] .colab-df-convert:hover {\n",
              "      background-color: #434B5C;\n",
              "      box-shadow: 0px 1px 3px 1px rgba(0, 0, 0, 0.15);\n",
              "      filter: drop-shadow(0px 1px 2px rgba(0, 0, 0, 0.3));\n",
              "      fill: #FFFFFF;\n",
              "    }\n",
              "  </style>\n",
              "\n",
              "      <script>\n",
              "        const buttonEl =\n",
              "          document.querySelector('#df-1e61462b-99db-4374-838b-781cb280be88 button.colab-df-convert');\n",
              "        buttonEl.style.display =\n",
              "          google.colab.kernel.accessAllowed ? 'block' : 'none';\n",
              "\n",
              "        async function convertToInteractive(key) {\n",
              "          const element = document.querySelector('#df-1e61462b-99db-4374-838b-781cb280be88');\n",
              "          const dataTable =\n",
              "            await google.colab.kernel.invokeFunction('convertToInteractive',\n",
              "                                                     [key], {});\n",
              "          if (!dataTable) return;\n",
              "\n",
              "          const docLinkHtml = 'Like what you see? Visit the ' +\n",
              "            '<a target=\"_blank\" href=https://colab.research.google.com/notebooks/data_table.ipynb>data table notebook</a>'\n",
              "            + ' to learn more about interactive tables.';\n",
              "          element.innerHTML = '';\n",
              "          dataTable['output_type'] = 'display_data';\n",
              "          await google.colab.output.renderOutput(dataTable, element);\n",
              "          const docLink = document.createElement('div');\n",
              "          docLink.innerHTML = docLinkHtml;\n",
              "          element.appendChild(docLink);\n",
              "        }\n",
              "      </script>\n",
              "    </div>\n",
              "  </div>\n",
              "  "
            ]
          },
          "metadata": {},
          "execution_count": 11
        }
      ]
    },
    {
      "cell_type": "code",
      "source": [
        "# 소분류 이름 변경\n",
        "\n",
        "barcode.loc[barcode['소분류'] == '양념육', '소분류'] = '육류'\n",
        "barcode.loc[barcode['소분류'] == '혼합소시지', '소분류'] = '소시지'\n",
        "barcode.loc[barcode['소분류'] == '자연치즈', '소분류'] = '치즈'\n",
        "barcode.loc[barcode['소분류'] == '생햄', '소분류'] = '햄'\n",
        "barcode.loc[barcode['소분류'] == '유당분해우유', '소분류'] = '우유'\n",
        "barcode.loc[barcode['소분류'] == '베이컨류', '소분류'] = '베이컨'\n",
        "barcode.loc[barcode['소분류'] == '묵류', '소분류'] = '묵'"
      ],
      "metadata": {
        "colab": {
          "base_uri": "https://localhost:8080/"
        },
        "id": "JFNJzZgGhB9b",
        "outputId": "d23102e4-7582-406a-90b3-1d5ce4ffd703"
      },
      "execution_count": 12,
      "outputs": [
        {
          "output_type": "stream",
          "name": "stderr",
          "text": [
            "/usr/local/lib/python3.7/dist-packages/pandas/core/indexing.py:1817: SettingWithCopyWarning: \n",
            "A value is trying to be set on a copy of a slice from a DataFrame.\n",
            "Try using .loc[row_indexer,col_indexer] = value instead\n",
            "\n",
            "See the caveats in the documentation: https://pandas.pydata.org/pandas-docs/stable/user_guide/indexing.html#returning-a-view-versus-a-copy\n",
            "  self._setitem_single_column(loc, value, pi)\n"
          ]
        }
      ]
    },
    {
      "cell_type": "code",
      "source": [
        "barcode['소분류'].value_counts()"
      ],
      "metadata": {
        "colab": {
          "base_uri": "https://localhost:8080/"
        },
        "id": "BaO2qa97hB7r",
        "outputId": "6dc60d2e-28b9-4d8c-cfdd-e78d0bc49581"
      },
      "execution_count": 13,
      "outputs": [
        {
          "output_type": "execute_result",
          "data": {
            "text/plain": [
              "육류      3525\n",
              "김치      1649\n",
              "어묵      1120\n",
              "소시지      949\n",
              "햄        828\n",
              "두부       520\n",
              "치즈       424\n",
              "우유       396\n",
              "묵        295\n",
              "베이컨      155\n",
              "돼지고기       6\n",
              "닭고기        4\n",
              "Name: 소분류, dtype: int64"
            ]
          },
          "metadata": {},
          "execution_count": 13
        }
      ]
    },
    {
      "cell_type": "markdown",
      "source": [
        "# 유통기한 정수화"
      ],
      "metadata": {
        "id": "4X1atC_Qi6_m"
      }
    },
    {
      "cell_type": "code",
      "source": [
        "# 유통기한 일수와 관련없는 숫자 데이터 삭제\n",
        "stop = ['0~10도씨', '영하18도', '0℃', '10℃', '-2~5도', '-18도',\n",
        "'-18℃', '0~10℃', '-18℃이하', '-2℃', '5℃', '-18도씨', '-2 - 10℃', '-2 ℃~10℃',\n",
        "'-2℃~5℃', '0~5도', '0-17도씨', '냉동-18', '400,800,920g', '14g', '-2～10℃',\n",
        "'0～10℃', '1-35도', '14g', '-2도', '10도', '-2~10℃', '0~10도', '-2 ℃~5℃', '4도'\n",
        "'1~35도씨', '0-10도', '-5도씨', '-2~5℃', '-2~-5℃', '0 ~ 10℃', '-2~10℃', \n",
        "'-2~5도', '-2~5도씨', '0-10도', '-1~3도씨', '0-5℃', '15~25℃', '1℃~35℃',\n",
        "'1-35도', '-2도씨', '2005.05.04', '1)', '400g, 800g', '2)', '14g', '1-10℃', '18이하',\n",
        "'50g', '300g', '500g', '800g', '1kg', '3.2kg', '15℃', '25℃', '400, 800, 920g', '14g',\n",
        "'1-35도', '350mL', 'PET', 'CAN', '1.5L', '50g', '10g', '40g', '1월~6월', '7월~8월',\n",
        "'9월~12월', '1~6월', '7~8월', '9~12월', '400, 800, 920g', '14g', '400g', '800g', '920g',\n",
        "'13g', '0℃', '10℃', '-2~5도', '-18도', '18℃', '(-2', '18℃', '(0~', '0~10℃', '-2 - 10℃', '0~5도',\n",
        "'-2～10℃', '-18℃', '0~', '(0', '-2℃', '5℃', '0~10도', '(4도시', '-2℃', '0-10도', '-2~-5℃',\n",
        "'제조일', '(-1~3도씨)', '0-5℃', '-2도', '~5도', '10도', '(-18', '-2～5℃', '0~10도', '18도', \n",
        "'0-10℃', '-2~10도씨', '-2℃', '-2~5도', '2℃', '0-10도', '-2~10˚)', '0~10℃', '-2~10도', \n",
        "'-2˚~10˚C', '-2∼5℃', '0℃', '-2 도', '-2℃', '-2 ~ 10 ℃', '-2°', '10°', '1~35℃', '2˚', '(월,년)',\n",
        "'24,48,', '-1도', '18도', '-2~10℃', '1)', '2)', '~1', '1이하', '℃~1', '1에서', '1 냉장', '7~',\n",
        "'(~1', '~1냉장', '1에서', '(10˚C)', '10 ℃)', '7~', '1에서', '(10˚)', '0- 냉장', '1이하', '˚~10˚C',\n",
        "'~ 10 ℃)', '˚~10˚C', '[1', '냉장10', '1 이하', '∼10', '1에서', '냉장1~', '(10˚c)', '10 ℃', '1 보관',\n",
        "'12월까지', '(~1이하)', '℃~1', '0 ~1에서', '0 ～ 1 에서', '~1도', '6~9월', '15월', '1에서',\n",
        "'℃~1', '4-10월', '11-3월', '4월~10월', '1℃-3', '11월~3월', '(1,냉장보관)', '영하2도',\n",
        "'-2 ℃~1보관', '4-10월=24시간, 11-3월=48시간', '10 이하온도', '0-1 로부터', ' (~10이하) ',\n",
        "'-18', '(10 ℃', '10c)', '(2~', '2도', '4월~10월', '11월~3월', '~1 이하', '11~3월' ,'4~10월', '()3',\n",
        "'(1', '-1에서', '-2 ℃ ', '10 ℃', '-18 ℃', '냉장~1', '/~1이하', '2이하', '-2 ~', '0 ~ 1에서', \n",
        "'~ 10 ℃', '(10˚c)', '∼10 ℃)', '10이하' ,'-2 ℃', '10 ℃', '4-10월', '11-3월', '～1이하', '5도',\n",
        "'0 ~1에서', '(1 냉장보관)', '냉장(10˚C)', \"-10')\" ,'~1보관시', '(냉장)1', '~1사이', '(1 보관)',\n",
        "'~ 10 ℃', '~ 1 냉장', '로부터10 (이하)', '0도', '0～1에서', '0-1', '( -2 ~ 1 )', ' ( - 18 ℃ )',\n",
        "'10 ℃이하', '( 0 ~ )', '냉장~1', '(1 냉장보관)', '~ 10 ℃)', '(1 이하)', '~1냉장보관-', '(1, 냉장보관)',\n",
        "'6-9월', '10-5월', '( ~ 5도)', '( 5도이하보관)', '[1 냉장보관]', '0도', '1. 냉장제품:', '( 0 ~ 10 ℃에서 냉장보관 )',\n",
        "'(~1 )', '~1이하보관시)', '(10 ℃ 냉장보관)', '(10 ℃ 냉장보관)', '( 10 ℃ 냉장보관 )', '0-1 냉장',\n",
        "'(1의', '~1에서', '-2에서']\n",
        "\n",
        "\n",
        "def to_date(data):\n",
        "    for word in stop:\n",
        "        if word in data:\n",
        "            data = data.replace(word, '')\n",
        "\n",
        "    return data\n",
        "\n",
        "barcode['유통기한'] = barcode['유통기한'].apply(to_date)"
      ],
      "metadata": {
        "id": "QTFOvcFrhrEg"
      },
      "execution_count": 14,
      "outputs": []
    },
    {
      "cell_type": "code",
      "source": [
        "# 정규표현식 작업을 위해 단위를 알파벳으로 바꿔줌\n",
        "\n",
        "def upper_alphabet(data):\n",
        "    if '년' in data:\n",
        "        data = data.replace('년','Y')\n",
        "    if '개월' in data:\n",
        "        data = data.replace('개월','M')\n",
        "    if '월' in data:\n",
        "        data = data.replace('월', 'M')\n",
        "    if '주' in data:\n",
        "        data = data.replace('주', 'W')\n",
        "    if '일' in data:\n",
        "        data = data.replace('일','D')\n",
        "    if '시간' in data:\n",
        "        data = data.replace('시간','H')\n",
        "    \n",
        "    return data\n",
        "\n",
        "barcode['유통기한'] = barcode['유통기한'].apply(upper_alphabet)"
      ],
      "metadata": {
        "id": "iWFZbUuihrCR"
      },
      "execution_count": 15,
      "outputs": []
    },
    {
      "cell_type": "code",
      "source": [
        "# 숫자와 알파벳대문자를 제외한 문자 삭제\n",
        "import re\n",
        "\n",
        "def clean(data):\n",
        "    \n",
        "    data = re.sub('[^A-Z0-9]','', data)\n",
        "\n",
        "    return data\n",
        "\n",
        "barcode['유통기한'] = barcode['유통기한'].apply(clean)"
      ],
      "metadata": {
        "id": "FNNFQie7hzPT"
      },
      "execution_count": 16,
      "outputs": []
    },
    {
      "cell_type": "code",
      "source": [
        "# 빈 값을 가진 행 삭제\n",
        "\n",
        "barcode['유통기한'].replace('', np.nan, inplace=True)\n",
        "barcode.dropna(how='any', inplace=True)"
      ],
      "metadata": {
        "id": "1G0GCyXVhzKU"
      },
      "execution_count": 17,
      "outputs": []
    },
    {
      "cell_type": "code",
      "source": [
        "def contour(data):\n",
        "        \n",
        "    if 'Y' in data:\n",
        "        data = data.replace('Y','Y/')\n",
        "        data = data.replace(' ','')\n",
        "    if 'M' in data:\n",
        "        data = data.replace('M','M/')\n",
        "        data = data.replace(' ','')\n",
        "    if 'W' in data:\n",
        "        data = data.replace('W', 'W/')\n",
        "        data = data.replace(' ','')\n",
        "    if 'D' in data:\n",
        "        data = data.replace('D','D/')\n",
        "        data = data.replace(' ','')\n",
        "    if 'H' in data:\n",
        "        data = data.replace('H','H/')\n",
        "        data = data.replace(' ','')\n",
        "    else:\n",
        "        data = data.replace(' ','')\n",
        "    \n",
        "    return data\n",
        "\n",
        "barcode['유통기한'] = barcode['유통기한'].apply(contour)"
      ],
      "metadata": {
        "id": "nthWiyDIhzIg"
      },
      "execution_count": 18,
      "outputs": []
    },
    {
      "cell_type": "code",
      "source": [
        "# / 를 중심으로 구분해주기\n",
        "\n",
        "def classify(data):\n",
        "    data = data.split('/')\n",
        "    \n",
        "    return data\n",
        "\n",
        "barcode['유통기한'] = barcode['유통기한'].apply(classify)"
      ],
      "metadata": {
        "id": "TNaZNpP8h-gF"
      },
      "execution_count": 19,
      "outputs": []
    },
    {
      "cell_type": "code",
      "source": [
        "# 유통기한 단위 '일'로 통일시키고 최솟값 반환하기\n",
        "\n",
        "def expiry_date(data):\n",
        "    res = []\n",
        "    for i, val in enumerate(data):\n",
        "        try:\n",
        "            only_num = int(''.join(filter(str.isdigit, val)))\n",
        "\n",
        "            if 48 <= ord(val[-1]) <= 57:\n",
        "                flag_num = 1\n",
        "            elif val[-1] == 'Y':\n",
        "                flag_num = 365\n",
        "            elif val[-1] == 'M':\n",
        "                flag_num = 30\n",
        "            elif val[-1] == 'W':\n",
        "                flag_num = 7\n",
        "            elif val[-1] == 'D':\n",
        "                flag_num = 1\n",
        "            elif val[-1] == 'H':\n",
        "                flag_num = 1/24\n",
        "\n",
        "        except ValueError as e:\n",
        "            res.append(np.nan)\n",
        "        else:\n",
        "            res.append(only_num * flag_num)\n",
        "        \n",
        "    return min(res)\n",
        "\n",
        "barcode['유통기한'] = barcode['유통기한'].apply(expiry_date)"
      ],
      "metadata": {
        "id": "y--z3Lzrh-d6"
      },
      "execution_count": 20,
      "outputs": []
    },
    {
      "cell_type": "code",
      "source": [
        "# 정수형으로 변경\n",
        "barcode.dropna(how='any', inplace=True)\n",
        "barcode['유통기한'] = barcode['유통기한'].astype(int)"
      ],
      "metadata": {
        "id": "3HErCz30h-b4"
      },
      "execution_count": 21,
      "outputs": []
    },
    {
      "cell_type": "code",
      "source": [
        "# index 초기화\n",
        "barcode = barcode.reset_index()\n",
        "barcode = barcode.drop('index', axis=1)"
      ],
      "metadata": {
        "id": "ZLagOgELiIVo"
      },
      "execution_count": 22,
      "outputs": []
    },
    {
      "cell_type": "code",
      "source": [
        "def labeling (data): # 소비기한-유통기한 라벨링\n",
        "\n",
        "  data.loc[barcode['소분류'] == '육류', '소비기한-유통기한'] = 180\n",
        "  data.loc[barcode['소분류'] == '김치', '소비기한-유통기한'] = 180\n",
        "  data.loc[barcode['소분류'] == '어묵', '소비기한-유통기한'] = 3\n",
        "  data.loc[barcode['소분류'] == '소시지', '소비기한-유통기한'] = 7\n",
        "  data.loc[barcode['소분류'] == '햄', '소비기한-유통기한'] = 7\n",
        "  data.loc[barcode['소분류'] == '두부', '소비기한-유통기한'] = 90\n",
        "  data.loc[barcode['소분류'] == '치즈', '소비기한-유통기한'] = 70 \n",
        "  data.loc[barcode['소분류'] == '우유', '소비기한-유통기한'] = 45\n",
        "\n",
        "  data['소비기한-유통기한'] = data['소비기한-유통기한'].fillna(0)\n",
        "\n",
        "  return data\n",
        "\n",
        "barcode = labeling(barcode)"
      ],
      "metadata": {
        "id": "gTVZgdkjhB5f"
      },
      "execution_count": 25,
      "outputs": []
    },
    {
      "cell_type": "code",
      "source": [
        "print(barcode.shape)\n",
        "barcode.head()"
      ],
      "metadata": {
        "colab": {
          "base_uri": "https://localhost:8080/",
          "height": 225
        },
        "id": "xLgZME19hZNQ",
        "outputId": "91ea7c73-e101-4932-c0bc-02017e3da7f4"
      },
      "execution_count": 26,
      "outputs": [
        {
          "output_type": "stream",
          "name": "stdout",
          "text": [
            "(9466, 6)\n"
          ]
        },
        {
          "output_type": "execute_result",
          "data": {
            "text/plain": [
              "         제품명           바코드  유통기한 소분류            제조사  소비기한-유통기한\n",
              "0        백김치  8.809217e+12    50  김치          도미솔식품      180.0\n",
              "1     유기농백김치  8.809335e+12    60  김치  농업회사법인주식회사담채원      180.0\n",
              "2       포기김치  8.809358e+12    90  김치    주식회사 진미푸드지점      180.0\n",
              "3      후레쉬밀크  8.801115e+12    12  우유  서울우유협동조합 안산공장       45.0\n",
              "4  명품돈.삽겹바베큐  8.809354e+12    45   햄     (주)산호푸드시스템        7.0"
            ],
            "text/html": [
              "\n",
              "  <div id=\"df-c2ce4fb8-e844-4fda-a111-c907fd2f769e\">\n",
              "    <div class=\"colab-df-container\">\n",
              "      <div>\n",
              "<style scoped>\n",
              "    .dataframe tbody tr th:only-of-type {\n",
              "        vertical-align: middle;\n",
              "    }\n",
              "\n",
              "    .dataframe tbody tr th {\n",
              "        vertical-align: top;\n",
              "    }\n",
              "\n",
              "    .dataframe thead th {\n",
              "        text-align: right;\n",
              "    }\n",
              "</style>\n",
              "<table border=\"1\" class=\"dataframe\">\n",
              "  <thead>\n",
              "    <tr style=\"text-align: right;\">\n",
              "      <th></th>\n",
              "      <th>제품명</th>\n",
              "      <th>바코드</th>\n",
              "      <th>유통기한</th>\n",
              "      <th>소분류</th>\n",
              "      <th>제조사</th>\n",
              "      <th>소비기한-유통기한</th>\n",
              "    </tr>\n",
              "  </thead>\n",
              "  <tbody>\n",
              "    <tr>\n",
              "      <th>0</th>\n",
              "      <td>백김치</td>\n",
              "      <td>8.809217e+12</td>\n",
              "      <td>50</td>\n",
              "      <td>김치</td>\n",
              "      <td>도미솔식품</td>\n",
              "      <td>180.0</td>\n",
              "    </tr>\n",
              "    <tr>\n",
              "      <th>1</th>\n",
              "      <td>유기농백김치</td>\n",
              "      <td>8.809335e+12</td>\n",
              "      <td>60</td>\n",
              "      <td>김치</td>\n",
              "      <td>농업회사법인주식회사담채원</td>\n",
              "      <td>180.0</td>\n",
              "    </tr>\n",
              "    <tr>\n",
              "      <th>2</th>\n",
              "      <td>포기김치</td>\n",
              "      <td>8.809358e+12</td>\n",
              "      <td>90</td>\n",
              "      <td>김치</td>\n",
              "      <td>주식회사 진미푸드지점</td>\n",
              "      <td>180.0</td>\n",
              "    </tr>\n",
              "    <tr>\n",
              "      <th>3</th>\n",
              "      <td>후레쉬밀크</td>\n",
              "      <td>8.801115e+12</td>\n",
              "      <td>12</td>\n",
              "      <td>우유</td>\n",
              "      <td>서울우유협동조합 안산공장</td>\n",
              "      <td>45.0</td>\n",
              "    </tr>\n",
              "    <tr>\n",
              "      <th>4</th>\n",
              "      <td>명품돈.삽겹바베큐</td>\n",
              "      <td>8.809354e+12</td>\n",
              "      <td>45</td>\n",
              "      <td>햄</td>\n",
              "      <td>(주)산호푸드시스템</td>\n",
              "      <td>7.0</td>\n",
              "    </tr>\n",
              "  </tbody>\n",
              "</table>\n",
              "</div>\n",
              "      <button class=\"colab-df-convert\" onclick=\"convertToInteractive('df-c2ce4fb8-e844-4fda-a111-c907fd2f769e')\"\n",
              "              title=\"Convert this dataframe to an interactive table.\"\n",
              "              style=\"display:none;\">\n",
              "        \n",
              "  <svg xmlns=\"http://www.w3.org/2000/svg\" height=\"24px\"viewBox=\"0 0 24 24\"\n",
              "       width=\"24px\">\n",
              "    <path d=\"M0 0h24v24H0V0z\" fill=\"none\"/>\n",
              "    <path d=\"M18.56 5.44l.94 2.06.94-2.06 2.06-.94-2.06-.94-.94-2.06-.94 2.06-2.06.94zm-11 1L8.5 8.5l.94-2.06 2.06-.94-2.06-.94L8.5 2.5l-.94 2.06-2.06.94zm10 10l.94 2.06.94-2.06 2.06-.94-2.06-.94-.94-2.06-.94 2.06-2.06.94z\"/><path d=\"M17.41 7.96l-1.37-1.37c-.4-.4-.92-.59-1.43-.59-.52 0-1.04.2-1.43.59L10.3 9.45l-7.72 7.72c-.78.78-.78 2.05 0 2.83L4 21.41c.39.39.9.59 1.41.59.51 0 1.02-.2 1.41-.59l7.78-7.78 2.81-2.81c.8-.78.8-2.07 0-2.86zM5.41 20L4 18.59l7.72-7.72 1.47 1.35L5.41 20z\"/>\n",
              "  </svg>\n",
              "      </button>\n",
              "      \n",
              "  <style>\n",
              "    .colab-df-container {\n",
              "      display:flex;\n",
              "      flex-wrap:wrap;\n",
              "      gap: 12px;\n",
              "    }\n",
              "\n",
              "    .colab-df-convert {\n",
              "      background-color: #E8F0FE;\n",
              "      border: none;\n",
              "      border-radius: 50%;\n",
              "      cursor: pointer;\n",
              "      display: none;\n",
              "      fill: #1967D2;\n",
              "      height: 32px;\n",
              "      padding: 0 0 0 0;\n",
              "      width: 32px;\n",
              "    }\n",
              "\n",
              "    .colab-df-convert:hover {\n",
              "      background-color: #E2EBFA;\n",
              "      box-shadow: 0px 1px 2px rgba(60, 64, 67, 0.3), 0px 1px 3px 1px rgba(60, 64, 67, 0.15);\n",
              "      fill: #174EA6;\n",
              "    }\n",
              "\n",
              "    [theme=dark] .colab-df-convert {\n",
              "      background-color: #3B4455;\n",
              "      fill: #D2E3FC;\n",
              "    }\n",
              "\n",
              "    [theme=dark] .colab-df-convert:hover {\n",
              "      background-color: #434B5C;\n",
              "      box-shadow: 0px 1px 3px 1px rgba(0, 0, 0, 0.15);\n",
              "      filter: drop-shadow(0px 1px 2px rgba(0, 0, 0, 0.3));\n",
              "      fill: #FFFFFF;\n",
              "    }\n",
              "  </style>\n",
              "\n",
              "      <script>\n",
              "        const buttonEl =\n",
              "          document.querySelector('#df-c2ce4fb8-e844-4fda-a111-c907fd2f769e button.colab-df-convert');\n",
              "        buttonEl.style.display =\n",
              "          google.colab.kernel.accessAllowed ? 'block' : 'none';\n",
              "\n",
              "        async function convertToInteractive(key) {\n",
              "          const element = document.querySelector('#df-c2ce4fb8-e844-4fda-a111-c907fd2f769e');\n",
              "          const dataTable =\n",
              "            await google.colab.kernel.invokeFunction('convertToInteractive',\n",
              "                                                     [key], {});\n",
              "          if (!dataTable) return;\n",
              "\n",
              "          const docLinkHtml = 'Like what you see? Visit the ' +\n",
              "            '<a target=\"_blank\" href=https://colab.research.google.com/notebooks/data_table.ipynb>data table notebook</a>'\n",
              "            + ' to learn more about interactive tables.';\n",
              "          element.innerHTML = '';\n",
              "          dataTable['output_type'] = 'display_data';\n",
              "          await google.colab.output.renderOutput(dataTable, element);\n",
              "          const docLink = document.createElement('div');\n",
              "          docLink.innerHTML = docLinkHtml;\n",
              "          element.appendChild(docLink);\n",
              "        }\n",
              "      </script>\n",
              "    </div>\n",
              "  </div>\n",
              "  "
            ]
          },
          "metadata": {},
          "execution_count": 26
        }
      ]
    },
    {
      "cell_type": "markdown",
      "source": [
        "# 전처리 완료한 파일 내보내기"
      ],
      "metadata": {
        "id": "gadCOJu_i_2L"
      }
    },
    {
      "cell_type": "code",
      "source": [
        "# barcode_cp1.csv로 내보내기\n",
        "\n",
        "barcode.to_csv('cp1_barcode.csv', index=False, encoding='CP949')"
      ],
      "metadata": {
        "id": "8eXkawd_hB3j"
      },
      "execution_count": 24,
      "outputs": []
    }
  ]
}